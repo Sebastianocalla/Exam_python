{
 "cells": [
  {
   "cell_type": "code",
   "execution_count": null,
   "metadata": {},
   "outputs": [],
   "source": [
    "#importo le librerie necessarie \n",
    "import pandas as pd\n",
    "import numpy as np\n",
    "from sklearn.model_selection import train_test_split\n",
    "from sklearn.linear_model import LinearRegression\n",
    "from sklearn.metrics import mean_squared_error, r2_score\n",
    "import matplotlib.pyplot as plt\n",
    "import seaborn as sns\n",
    "import requests\n",
    "import pickle\n",
    "\n",
    "\n",
    "#importo i csv e li inseriesco all'interno di due variabili\n",
    "red_wine = pd.read_csv(\"https://raw.githubusercontent.com/FabioGagliardiIts/datasets/main/wine_quality/winequality-red.csv\", sep=';')\n",
    "white_wine = pd.read_csv(\"https://raw.githubusercontent.com/FabioGagliardiIts/datasets/main/wine_quality/winequality-white.csv\", sep=';')\n",
    "\n",
    "#aggiungo una colonna per entrambi i csv per riconoscere tra vini bianchi e rossi \n",
    "red_wine.insert(0, 'type', 0)\n",
    "white_wine.insert(0, 'type', 1)\n",
    "\n",
    "#unisco i csv in un unico dataframe\n",
    "df_wine = pd.concat([red_wine, white_wine], ignore_index=True)\n",
    "\n",
    "#stampo la variabile wine per assicurarmi che l'importo sia andato a buon fine\n",
    "display(df_wine)"
   ]
  },
  {
   "cell_type": "markdown",
   "metadata": {},
   "source": [
    "1 Fixed acidity. The predominant fixed acids in wine, such as tartaric, succinic, citric, and malic acids. 2 Volatile acidity. The high acetic acid present in wine, which causes an unpleasant vinegar taste. 3 Citric acid. A weak organic acid used to increase the freshness and flavor of wine. 4 Residual sugar. The amount of sugar left after fermentation. 5 Chlorides. The amount of salt in wine. The lower chloride rate creates better quality wines. 6 Free sulfur dioxide. SO2 is used for preventing wine from oxidation and microbial spoilage. 7 Total sulfur dioxide. The amount of free and bound forms of SO2. 8 Density. Depends on the alcohol and sugar content. Better wines usually have lower densities. 9 pH. Used to check the level of acidity or alkalinity of wine. 10 Sulfates. An antibacterial and antioxidant agent added to wine. 11 Alcohol. The percentage of alcohol in wine. A higher concentration leads to better quality. 12 Type. 0 Red wine, 1 White wine."
   ]
  },
  {
   "cell_type": "code",
   "execution_count": null,
   "metadata": {},
   "outputs": [],
   "source": [
    "#controllo i valori nulli\n",
    "df_wine.isnull().sum()"
   ]
  },
  {
   "cell_type": "code",
   "execution_count": null,
   "metadata": {},
   "outputs": [],
   "source": [
    "#visualizzo in tabelle ogni colonna del dataframe\n",
    "df_wine.hist(figsize=(20,13))\n",
    "plt.show()"
   ]
  },
  {
   "cell_type": "code",
   "execution_count": null,
   "metadata": {},
   "outputs": [],
   "source": [
    "#heatmap correlazioni\n",
    "plt.figure(figsize=(13, 10))\n",
    "corr_matrix = df_wine.corr(numeric_only = True)\n",
    "\n",
    "sns.heatmap(corr_matrix, annot=True)\n",
    "plt.show()"
   ]
  },
  {
   "cell_type": "markdown",
   "metadata": {},
   "source": [
    "Dal grafico si può notare una correlazione tra free_sulfur_dioxite e total_sulfur_dioxite, decido di eliminare total_sulfur_dioxite"
   ]
  },
  {
   "cell_type": "code",
   "execution_count": null,
   "metadata": {},
   "outputs": [],
   "source": [
    "#elimino dalla tabella la colonna total_sulfur_dioxide\n",
    "df_wine=df_wine.drop(\"total_sulfur_dioxide\", axis=1)"
   ]
  },
  {
   "cell_type": "code",
   "execution_count": null,
   "metadata": {},
   "outputs": [],
   "source": [
    "#grafico che conta i vini in base alla qualità\n",
    "\n",
    "df_temp=df_wine['quality']\n",
    "sns.displot(df_temp)\n",
    "plt.show()\n",
    "\n",
    "temp=df_temp.to_numpy()\n",
    "\n",
    "plt.scatter(np.arange(temp.size), temp, alpha=0.2)\n",
    "plt.show()"
   ]
  },
  {
   "cell_type": "code",
   "execution_count": null,
   "metadata": {},
   "outputs": [],
   "source": [
    "corr_labels = corr_matrix['quality'].sort_values(ascending=False)\n",
    "print(corr_labels)"
   ]
  },
  {
   "cell_type": "code",
   "execution_count": null,
   "metadata": {},
   "outputs": [],
   "source": [
    "#ho creato una nuova colonna top quality assegna il valore 1 se la quality del vino è > 5 o il valore 0 se inferiore di 5\n",
    "df_wine['top_quality'] = [1 if x > 5.8 else 0 for x in df_wine.quality]\n",
    "display(df_wine)"
   ]
  },
  {
   "cell_type": "code",
   "execution_count": null,
   "metadata": {},
   "outputs": [],
   "source": [
    "#selezione delle features e della colonna target\n",
    "features = df_wine.drop(['quality', 'top_quality'], axis=1)\n",
    "target = df_wine['top_quality']\n",
    "\n",
    "#split di training e testing delle features e del target\n",
    "x_train, x_test, y_train, y_test = train_test_split(features, target, test_size=0.2, random_state=40)\n",
    "\n",
    "#shape delle tuple di training e di testing\n",
    "x_train.shape, x_test.shape"
   ]
  },
  {
   "cell_type": "code",
   "execution_count": null,
   "metadata": {},
   "outputs": [],
   "source": [
    "#normalizzazione dei valori\n",
    "norm = MinMaxScaler()\n",
    "xtrain = norm.fit_transform(x_train)\n",
    "xtest = norm.transform(x_test)\n",
    "print(xtrain)\n",
    "print(xtest)"
   ]
  },
  {
   "cell_type": "code",
   "execution_count": null,
   "metadata": {},
   "outputs": [],
   "source": [
    "#inizializzazione del modello di regressione logistica\n",
    "logistic_model = LogisticRegression()\n",
    "\n",
    "#training del modello\n",
    "logistic_model.fit(xtrain, y_train)\n",
    "\n",
    "#previsionI sui test\n",
    "y_pred_logistic = logistic_model.predict(xtest)\n",
    "\n",
    "#definizione della precisione del modello\n",
    "accuracy = accuracy_score(y_test, y_pred_logistic)\n",
    "print('Precisione del modello:', accuracy)\n",
    "\n",
    "print('\\n')\n",
    "\n",
    "#inizializzazione della matrice di confusione\n",
    "conf_matrix_logistic = confusion_matrix(y_test, y_pred_logistic)\n",
    "\n",
    "#definizione dell'errore quadrato medio\n",
    "mse = mean_squared_error(y_test, y_pred_logistic)\n",
    "print('MSE:', mse)\n",
    "\n",
    "#definizione di r2\n",
    "r2 = r2_score(y_test, y_pred_logistic)\n",
    "print('R2:', r2)"
   ]
  },
  {
   "cell_type": "code",
   "execution_count": null,
   "metadata": {},
   "outputs": [],
   "source": [
    "pickle.dump(logistic_model,open(\"model.pk1\",\"wb\"))\n",
    "model = pickle.load(open(\"model.pkl\", \"rb\"))"
   ]
  }
 ],
 "metadata": {
  "language_info": {
   "name": "python"
  }
 },
 "nbformat": 4,
 "nbformat_minor": 2
}
